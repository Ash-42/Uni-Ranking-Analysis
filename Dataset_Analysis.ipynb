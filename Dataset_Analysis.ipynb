{
  "nbformat": 4,
  "nbformat_minor": 0,
  "metadata": {
    "colab": {
      "name": "Dataset Analysis.ipynb",
      "provenance": [],
      "collapsed_sections": [],
      "include_colab_link": true
    },
    "kernelspec": {
      "name": "python3",
      "display_name": "Python 3"
    }
  },
  "cells": [
    {
      "cell_type": "markdown",
      "metadata": {
        "id": "view-in-github",
        "colab_type": "text"
      },
      "source": [
        "<a href=\"https://colab.research.google.com/github/Ash-42/Uni-Ranking-Analysis/blob/main/Dataset_Analysis.ipynb\" target=\"_parent\"><img src=\"https://colab.research.google.com/assets/colab-badge.svg\" alt=\"Open In Colab\"/></a>"
      ]
    },
    {
      "cell_type": "markdown",
      "metadata": {
        "id": "iyTG4blduBtb"
      },
      "source": [
        "**About the data**\n",
        "\n",
        "The *Times Higher Education (THE)* university rankings dataset from 2011 to 2016.\n",
        "\n",
        "A world rank is designated and scores assigned between 0 and 100 for:\n",
        "\n",
        "* Teaching (teaching/the learning environment)\n",
        "* International Outlook (international/staff, students and research)\n",
        "* Research (research/volume, income and reputation)\n",
        "* Citations (citations/research influence)\n",
        "* Industry Income (income/knowledge transfer, value not available for all)\n",
        "\n",
        "The weight of the above factors in calculating the total score:\n",
        "\n",
        "Teaching: 30%;\n",
        "International Outlook 7.5%;\n",
        "Research: 30%;\n",
        "Citations: 30%;\n",
        "Industry Income: 2.5%;\n",
        "\n",
        "      total_score = 0.3*teaching + 0.075*international + 0.3*research + 0.3*citations + 0.025*income\n",
        "\n"
      ]
    },
    {
      "cell_type": "markdown",
      "metadata": {
        "id": "YEBWMWeZg9py"
      },
      "source": [
        "\n",
        "\n",
        "**To do for the team :**\n",
        "\n",
        "\n",
        "*Data Wrangling*\n",
        "1. Clean up data - remove NaN, null, missing and '-' values\n",
        "2. Create separate dataframes for each year\n",
        "3. Check for typos and inconsistent capitalization (research how to do that)\n",
        "*Data Visualization*\n",
        "1. Create separate graphs for each dataframe(year)\n",
        "2. Extract insights (look for a story)\n",
        "3. Find and filter outliers <br>\n",
        "<t> a) Numerical – Box plot / Histogram <br>\n",
        "b) Categorical – Bar chart.\n",
        "\n"
      ]
    },
    {
      "cell_type": "code",
      "metadata": {
        "id": "ZoXOw1UfIUkJ"
      },
      "source": [
        "# Import necessary libraries\n",
        "import pandas as pd\n",
        "import numpy as np\n",
        "import matplotlib.pyplot as plt\n",
        "import seaborn as sns\n",
        "%matplotlib inline"
      ],
      "execution_count": 901,
      "outputs": []
    },
    {
      "cell_type": "code",
      "metadata": {
        "id": "Wr9SoAU9O6Kz",
        "outputId": "e372b41a-8e43-49e4-e8d5-c33742038208",
        "colab": {
          "base_uri": "https://localhost:8080/",
          "height": 478
        }
      },
      "source": [
        "# Load the dataset\n",
        "path = \"/content/uni_rankings_dataset.csv\"\n",
        "data = pd.read_csv(path)\n",
        "\n",
        "# View feature names and the top 10 instances\n",
        "data.head(10)"
      ],
      "execution_count": 902,
      "outputs": [
        {
          "output_type": "execute_result",
          "data": {
            "text/html": [
              "<div>\n",
              "<style scoped>\n",
              "    .dataframe tbody tr th:only-of-type {\n",
              "        vertical-align: middle;\n",
              "    }\n",
              "\n",
              "    .dataframe tbody tr th {\n",
              "        vertical-align: top;\n",
              "    }\n",
              "\n",
              "    .dataframe thead th {\n",
              "        text-align: right;\n",
              "    }\n",
              "</style>\n",
              "<table border=\"1\" class=\"dataframe\">\n",
              "  <thead>\n",
              "    <tr style=\"text-align: right;\">\n",
              "      <th></th>\n",
              "      <th>world_rank</th>\n",
              "      <th>university_name</th>\n",
              "      <th>country</th>\n",
              "      <th>teaching</th>\n",
              "      <th>international</th>\n",
              "      <th>research</th>\n",
              "      <th>citations</th>\n",
              "      <th>income</th>\n",
              "      <th>total_score</th>\n",
              "      <th>num_students</th>\n",
              "      <th>student_staff_ratio</th>\n",
              "      <th>international_students</th>\n",
              "      <th>female_male_ratio</th>\n",
              "      <th>year</th>\n",
              "    </tr>\n",
              "  </thead>\n",
              "  <tbody>\n",
              "    <tr>\n",
              "      <th>0</th>\n",
              "      <td>1</td>\n",
              "      <td>Harvard University</td>\n",
              "      <td>United States of America</td>\n",
              "      <td>99.7</td>\n",
              "      <td>72.4</td>\n",
              "      <td>98.7</td>\n",
              "      <td>98.8</td>\n",
              "      <td>34.5</td>\n",
              "      <td>96.1</td>\n",
              "      <td>20,152</td>\n",
              "      <td>8.9</td>\n",
              "      <td>25%</td>\n",
              "      <td>NaN</td>\n",
              "      <td>2011</td>\n",
              "    </tr>\n",
              "    <tr>\n",
              "      <th>1</th>\n",
              "      <td>2</td>\n",
              "      <td>California Institute of Technology</td>\n",
              "      <td>United States of America</td>\n",
              "      <td>97.7</td>\n",
              "      <td>54.6</td>\n",
              "      <td>98.0</td>\n",
              "      <td>99.9</td>\n",
              "      <td>83.7</td>\n",
              "      <td>96.0</td>\n",
              "      <td>2,243</td>\n",
              "      <td>6.9</td>\n",
              "      <td>27%</td>\n",
              "      <td>33 : 67</td>\n",
              "      <td>2011</td>\n",
              "    </tr>\n",
              "    <tr>\n",
              "      <th>2</th>\n",
              "      <td>3</td>\n",
              "      <td>Massachusetts Institute of Technology</td>\n",
              "      <td>United States of America</td>\n",
              "      <td>97.8</td>\n",
              "      <td>82.3</td>\n",
              "      <td>91.4</td>\n",
              "      <td>99.9</td>\n",
              "      <td>87.5</td>\n",
              "      <td>95.6</td>\n",
              "      <td>11,074</td>\n",
              "      <td>9.0</td>\n",
              "      <td>33%</td>\n",
              "      <td>37 : 63</td>\n",
              "      <td>2011</td>\n",
              "    </tr>\n",
              "    <tr>\n",
              "      <th>3</th>\n",
              "      <td>4</td>\n",
              "      <td>Stanford University</td>\n",
              "      <td>United States of America</td>\n",
              "      <td>98.3</td>\n",
              "      <td>29.5</td>\n",
              "      <td>98.1</td>\n",
              "      <td>99.2</td>\n",
              "      <td>64.3</td>\n",
              "      <td>94.3</td>\n",
              "      <td>15,596</td>\n",
              "      <td>7.8</td>\n",
              "      <td>22%</td>\n",
              "      <td>42 : 58</td>\n",
              "      <td>2011</td>\n",
              "    </tr>\n",
              "    <tr>\n",
              "      <th>4</th>\n",
              "      <td>5</td>\n",
              "      <td>Princeton University</td>\n",
              "      <td>United States of America</td>\n",
              "      <td>90.9</td>\n",
              "      <td>70.3</td>\n",
              "      <td>95.4</td>\n",
              "      <td>99.9</td>\n",
              "      <td>-</td>\n",
              "      <td>94.2</td>\n",
              "      <td>7,929</td>\n",
              "      <td>8.4</td>\n",
              "      <td>27%</td>\n",
              "      <td>45 : 55</td>\n",
              "      <td>2011</td>\n",
              "    </tr>\n",
              "    <tr>\n",
              "      <th>5</th>\n",
              "      <td>6</td>\n",
              "      <td>University of Cambridge</td>\n",
              "      <td>United Kingdom</td>\n",
              "      <td>90.5</td>\n",
              "      <td>77.7</td>\n",
              "      <td>94.1</td>\n",
              "      <td>94.0</td>\n",
              "      <td>57.0</td>\n",
              "      <td>91.2</td>\n",
              "      <td>18,812</td>\n",
              "      <td>11.8</td>\n",
              "      <td>34%</td>\n",
              "      <td>46 : 54</td>\n",
              "      <td>2011</td>\n",
              "    </tr>\n",
              "    <tr>\n",
              "      <th>6</th>\n",
              "      <td>6</td>\n",
              "      <td>University of Oxford</td>\n",
              "      <td>United Kingdom</td>\n",
              "      <td>88.2</td>\n",
              "      <td>77.2</td>\n",
              "      <td>93.9</td>\n",
              "      <td>95.1</td>\n",
              "      <td>73.5</td>\n",
              "      <td>91.2</td>\n",
              "      <td>19,919</td>\n",
              "      <td>11.6</td>\n",
              "      <td>34%</td>\n",
              "      <td>46 : 54</td>\n",
              "      <td>2011</td>\n",
              "    </tr>\n",
              "    <tr>\n",
              "      <th>7</th>\n",
              "      <td>8</td>\n",
              "      <td>University of California, Berkeley</td>\n",
              "      <td>United States of America</td>\n",
              "      <td>84.2</td>\n",
              "      <td>39.6</td>\n",
              "      <td>99.3</td>\n",
              "      <td>97.8</td>\n",
              "      <td>-</td>\n",
              "      <td>91.1</td>\n",
              "      <td>36,186</td>\n",
              "      <td>16.4</td>\n",
              "      <td>15%</td>\n",
              "      <td>50 : 50</td>\n",
              "      <td>2011</td>\n",
              "    </tr>\n",
              "    <tr>\n",
              "      <th>8</th>\n",
              "      <td>9</td>\n",
              "      <td>Imperial College London</td>\n",
              "      <td>United Kingdom</td>\n",
              "      <td>89.2</td>\n",
              "      <td>90.0</td>\n",
              "      <td>94.5</td>\n",
              "      <td>88.3</td>\n",
              "      <td>92.9</td>\n",
              "      <td>90.6</td>\n",
              "      <td>15,060</td>\n",
              "      <td>11.7</td>\n",
              "      <td>51%</td>\n",
              "      <td>37 : 63</td>\n",
              "      <td>2011</td>\n",
              "    </tr>\n",
              "    <tr>\n",
              "      <th>9</th>\n",
              "      <td>10</td>\n",
              "      <td>Yale University</td>\n",
              "      <td>United States of America</td>\n",
              "      <td>92.1</td>\n",
              "      <td>59.2</td>\n",
              "      <td>89.7</td>\n",
              "      <td>91.5</td>\n",
              "      <td>-</td>\n",
              "      <td>89.5</td>\n",
              "      <td>11,751</td>\n",
              "      <td>4.4</td>\n",
              "      <td>20%</td>\n",
              "      <td>50 : 50</td>\n",
              "      <td>2011</td>\n",
              "    </tr>\n",
              "  </tbody>\n",
              "</table>\n",
              "</div>"
            ],
            "text/plain": [
              "  world_rank                        university_name  ... female_male_ratio  year\n",
              "0          1                     Harvard University  ...               NaN  2011\n",
              "1          2     California Institute of Technology  ...           33 : 67  2011\n",
              "2          3  Massachusetts Institute of Technology  ...           37 : 63  2011\n",
              "3          4                    Stanford University  ...           42 : 58  2011\n",
              "4          5                   Princeton University  ...           45 : 55  2011\n",
              "5          6                University of Cambridge  ...           46 : 54  2011\n",
              "6          6                   University of Oxford  ...           46 : 54  2011\n",
              "7          8     University of California, Berkeley  ...           50 : 50  2011\n",
              "8          9                Imperial College London  ...           37 : 63  2011\n",
              "9         10                        Yale University  ...           50 : 50  2011\n",
              "\n",
              "[10 rows x 14 columns]"
            ]
          },
          "metadata": {
            "tags": []
          },
          "execution_count": 902
        }
      ]
    },
    {
      "cell_type": "markdown",
      "metadata": {
        "id": "ewTUV0GFOlFo"
      },
      "source": [
        "###Exploratory Data Analysis\n"
      ]
    },
    {
      "cell_type": "code",
      "metadata": {
        "id": "zCc9i0vdNaPK",
        "outputId": "2325af0d-c6a6-4d15-9dfd-691880f4568c",
        "colab": {
          "base_uri": "https://localhost:8080/"
        }
      },
      "source": [
        "# (instances, features)\n",
        "print(\"Dataframe shape: \", data.shape, \"\\n\")\n",
        "print(data.info())"
      ],
      "execution_count": 903,
      "outputs": [
        {
          "output_type": "stream",
          "text": [
            "Dataframe shape:  (2603, 14) \n",
            "\n",
            "<class 'pandas.core.frame.DataFrame'>\n",
            "RangeIndex: 2603 entries, 0 to 2602\n",
            "Data columns (total 14 columns):\n",
            " #   Column                  Non-Null Count  Dtype  \n",
            "---  ------                  --------------  -----  \n",
            " 0   world_rank              2603 non-null   object \n",
            " 1   university_name         2603 non-null   object \n",
            " 2   country                 2603 non-null   object \n",
            " 3   teaching                2603 non-null   float64\n",
            " 4   international           2603 non-null   object \n",
            " 5   research                2603 non-null   float64\n",
            " 6   citations               2603 non-null   float64\n",
            " 7   income                  2603 non-null   object \n",
            " 8   total_score             2603 non-null   object \n",
            " 9   num_students            2544 non-null   object \n",
            " 10  student_staff_ratio     2544 non-null   float64\n",
            " 11  international_students  2536 non-null   object \n",
            " 12  female_male_ratio       2370 non-null   object \n",
            " 13  year                    2603 non-null   int64  \n",
            "dtypes: float64(4), int64(1), object(9)\n",
            "memory usage: 284.8+ KB\n",
            "None\n"
          ],
          "name": "stdout"
        }
      ]
    },
    {
      "cell_type": "markdown",
      "metadata": {
        "id": "Giv3Nd2dbWV7"
      },
      "source": [
        "#### Feature Analysis"
      ]
    },
    {
      "cell_type": "markdown",
      "metadata": {
        "id": "LuK8B_dRDycx"
      },
      "source": [
        "1. `world_rank` : World rank for the university. Contains rank ranges and equal ranks (eg. =94 and 201-250)\n",
        "2. `university_name` : Name of the university\n",
        "3. `country` : Country of each university\n",
        "4. `teaching` : University score for teaching (the learning environment)\n",
        "5. `international` : University score for international outlook (students, staff, reasearch)\n",
        "6. `research` : University score for research (volume, income and reputation)\n",
        "7. `citations` : University score for citations (research influence)\n",
        "8. `income` : University score for industry income (knowledge transfer)\n",
        "9. `total_score` : Total score for university, used to determine rank\n",
        "10. `num_students` : Number of students at the university\n",
        "11. `student_staff_ratio` : Ratio of students to staff at the university\n",
        "12. `international_students` : Percentage of students of international origin\n",
        "13. `female_male_ratio` : Ratio of female students to male students in the university\n",
        "14. `year` : Year of publishing rankings"
      ]
    },
    {
      "cell_type": "markdown",
      "metadata": {
        "id": "GRat_siYjliD"
      },
      "source": [
        "#### String Processing\n",
        "Convert all values to appropriate data types"
      ]
    },
    {
      "cell_type": "code",
      "metadata": {
        "id": "7ZY23w1LAu9N"
      },
      "source": [
        "# Data contains '-' values, assign as NaN\n",
        "data.replace('-', np.NaN, inplace=True)"
      ],
      "execution_count": 904,
      "outputs": []
    },
    {
      "cell_type": "code",
      "metadata": {
        "id": "wqYqBfX6P_pA"
      },
      "source": [
        "#Removing inconsistent capitalization\n",
        "df = data\n",
        "countries = []\n",
        "for i in df['country']:\n",
        "  if i not in countries:\n",
        "    countries.append(i)\n",
        "for i in countries:\n",
        "  for j in i.split(' '):\n",
        "    j.capitalize()"
      ],
      "execution_count": 905,
      "outputs": []
    },
    {
      "cell_type": "code",
      "metadata": {
        "id": "M6N2e2RIvwwn",
        "outputId": "f20f8379-e08f-46b9-d01d-cbe8b2ab0a0e",
        "colab": {
          "base_uri": "https://localhost:8080/"
        }
      },
      "source": [
        "# Process world_rank\n",
        "data.world_rank.value_counts().keys()"
      ],
      "execution_count": 906,
      "outputs": [
        {
          "output_type": "execute_result",
          "data": {
            "text/plain": [
              "Index(['301-350', '601-800', '351-400', '276-300', '201-225', '501-600',\n",
              "       '226-250', '401-500', '251-275', '201-250',\n",
              "       ...\n",
              "       '=193', '=125', '=144', '=104', '=161', '=172', '=88', '=176', '=56',\n",
              "       '179'],\n",
              "      dtype='object', length=250)"
            ]
          },
          "metadata": {
            "tags": []
          },
          "execution_count": 906
        }
      ]
    },
    {
      "cell_type": "code",
      "metadata": {
        "id": "L01xRWTYzDrF",
        "outputId": "edfe6e2d-d572-4b6d-f831-dee3b1a2944b",
        "colab": {
          "base_uri": "https://localhost:8080/"
        }
      },
      "source": [
        "# Process num_students to remove commas\n",
        "print(\"Before processing: \")\n",
        "print(*data.num_students.values[:30], sep=\", \")\n",
        "print(\"\\n\")\n",
        "\n",
        "# Replace commas with empty string \n",
        "data.num_students = [i.replace(',', '') if isinstance(i, str) else i for i in data.num_students.values]\n",
        "# Convert from str to float, can be changed to int after data cleaning\n",
        "data.num_students = [float(i) for i in data.num_students.values]\n",
        "\n",
        "print(\"After processing 'num_students': \")\n",
        "print(*data.num_students.values[:30], sep=\", \")"
      ],
      "execution_count": 907,
      "outputs": [
        {
          "output_type": "stream",
          "text": [
            "Before processing: \n",
            "20,152, 2,243, 11,074, 15,596, 7,929, 18,812, 19,919, 36,186, 15,060, 11,751, 38,206, 14,221, 15,128, 21,424, 18,178, 41,786, 66,198, 25,055, 20,376, 11,885, 19,835, 26,607, 44,020, 15,172, 18,334, 26,199, 19,967, 3,055, 22,020, 50,152\n",
            "\n",
            "\n",
            "After processing 'num_students': \n",
            "20152.0, 2243.0, 11074.0, 15596.0, 7929.0, 18812.0, 19919.0, 36186.0, 15060.0, 11751.0, 38206.0, 14221.0, 15128.0, 21424.0, 18178.0, 41786.0, 66198.0, 25055.0, 20376.0, 11885.0, 19835.0, 26607.0, 44020.0, 15172.0, 18334.0, 26199.0, 19967.0, 3055.0, 22020.0, 50152.0\n"
          ],
          "name": "stdout"
        }
      ]
    },
    {
      "cell_type": "code",
      "metadata": {
        "id": "_rBmFnFGmsMA",
        "outputId": "2f39782a-2e00-4e83-f641-95ee5f398d0c",
        "colab": {
          "base_uri": "https://localhost:8080/"
        }
      },
      "source": [
        "# Process international_students\n",
        "print(\"Before processing: \")\n",
        "print(*data.international_students.values[:30], sep=\", \")\n",
        "print(\"\\n\")\n",
        "\n",
        "# Remove percentage symbols from the 'international_students' feature\n",
        "data.international_students = [i[ : -1] if isinstance(i, str) else i for i in data.international_students.values]\n",
        "# Convert from str to float\n",
        "data.international_students = [float(i) for i in data.international_students.values]\n",
        "\n",
        "print(\"After processing 'international_students': \")\n",
        "print(*data.international_students.values[:30], sep=\", \")"
      ],
      "execution_count": 908,
      "outputs": [
        {
          "output_type": "stream",
          "text": [
            "Before processing: \n",
            "25%, 27%, 33%, 22%, 27%, 34%, 34%, 15%, 51%, 20%, 15%, 21%, 23%, 19%, 37%, 16%, 15%, 28%, 20%, 35%, 38%, 46%, 13%, 17%, 15%, 10%, 26%, 4%, 11%, 25%\n",
            "\n",
            "\n",
            "After processing 'international_students': \n",
            "25.0, 27.0, 33.0, 22.0, 27.0, 34.0, 34.0, 15.0, 51.0, 20.0, 15.0, 21.0, 23.0, 19.0, 37.0, 16.0, 15.0, 28.0, 20.0, 35.0, 38.0, 46.0, 13.0, 17.0, 15.0, 10.0, 26.0, 4.0, 11.0, 25.0\n"
          ],
          "name": "stdout"
        }
      ]
    },
    {
      "cell_type": "code",
      "metadata": {
        "id": "tLbdOsa306Dg",
        "outputId": "a4b7541a-2b76-4131-c76a-b439b9030153",
        "colab": {
          "base_uri": "https://localhost:8080/"
        }
      },
      "source": [
        "# Process female_male_ratio \n",
        "print(\"Before processing: \")\n",
        "print(*data.female_male_ratio.values[ : 20], sep=\", \")\n",
        "print(\"\\n\")\n",
        "\n",
        "# Rename column name to female_ratio\n",
        "data.rename(columns={'female_male_ratio' : 'female_ratio'}, inplace=True)\n",
        "\n",
        "# Convert ratio to decimal flaoting values\n",
        "data.female_ratio = [('0.'+i[ : 2]) if isinstance(i, str) else i for i in data.female_ratio]\n",
        "data.female_ratio = [float(i) for i in data.female_ratio.values]\n",
        "\n",
        "print(\"After processing 'female_ratio': \")\n",
        "print(*data.female_ratio.values[ : 20], sep=\", \")"
      ],
      "execution_count": 909,
      "outputs": [
        {
          "output_type": "stream",
          "text": [
            "Before processing: \n",
            "nan, 33 : 67, 37 : 63, 42 : 58, 45 : 55, 46 : 54, 46 : 54, 50 : 50, 37 : 63, 50 : 50, 52 : 48, 42 : 58, 50 : 50, 48 : 52, 31 : 69, 48 : 52, nan, nan, 51 : 49, 39 : 61\n",
            "\n",
            "\n",
            "After processing 'female_ratio': \n",
            "nan, 0.33, 0.37, 0.42, 0.45, 0.46, 0.46, 0.5, 0.37, 0.5, 0.52, 0.42, 0.5, 0.48, 0.31, 0.48, nan, nan, 0.51, 0.39\n"
          ],
          "name": "stdout"
        }
      ]
    },
    {
      "cell_type": "code",
      "metadata": {
        "id": "TBjf7iV6zscW",
        "outputId": "c6854f89-6460-4f79-fb1e-f0def0b56c4b",
        "colab": {
          "base_uri": "https://localhost:8080/"
        }
      },
      "source": [
        "# Observe year keys and number of instances each\n",
        "data.year.value_counts()"
      ],
      "execution_count": 910,
      "outputs": [
        {
          "output_type": "execute_result",
          "data": {
            "text/plain": [
              "2016    800\n",
              "2012    402\n",
              "2015    401\n",
              "2013    400\n",
              "2014    400\n",
              "2011    200\n",
              "Name: year, dtype: int64"
            ]
          },
          "metadata": {
            "tags": []
          },
          "execution_count": 910
        }
      ]
    },
    {
      "cell_type": "markdown",
      "metadata": {
        "id": "NNpq8_HIz0MX"
      },
      "source": [
        "This implies that the dataset consists of rankings from the years 2011-2016"
      ]
    },
    {
      "cell_type": "code",
      "metadata": {
        "id": "vjF1fIBGBLNz",
        "outputId": "e8feeaaa-9184-4cd6-9b0b-9e7952802374",
        "colab": {
          "base_uri": "https://localhost:8080/"
        }
      },
      "source": [
        "def check_col_types(df):\n",
        "  \"\"\"Prints data types of all \n",
        "  values of every feature in a\n",
        "  dataframe\"\"\" \n",
        "  for col in df.columns:\n",
        "    types = set()\n",
        "    for val in df[col].values:\n",
        "      types.add(type(val))\n",
        "    print(col, ':', *types)\n",
        "\n",
        "check_col_types(data)"
      ],
      "execution_count": 911,
      "outputs": [
        {
          "output_type": "stream",
          "text": [
            "world_rank : <class 'str'>\n",
            "university_name : <class 'str'>\n",
            "country : <class 'str'>\n",
            "teaching : <class 'numpy.float64'>\n",
            "international : <class 'float'> <class 'str'>\n",
            "research : <class 'numpy.float64'>\n",
            "citations : <class 'numpy.float64'>\n",
            "income : <class 'float'> <class 'str'>\n",
            "total_score : <class 'float'> <class 'str'>\n",
            "num_students : <class 'numpy.float64'>\n",
            "student_staff_ratio : <class 'numpy.float64'>\n",
            "international_students : <class 'numpy.float64'>\n",
            "female_ratio : <class 'numpy.float64'>\n",
            "year : <class 'numpy.int64'>\n"
          ],
          "name": "stdout"
        }
      ]
    },
    {
      "cell_type": "code",
      "metadata": {
        "id": "bVKo3mRjP_WF",
        "outputId": "ede2848d-07d0-4fc2-c51d-f863d944fa59",
        "colab": {
          "base_uri": "https://localhost:8080/"
        }
      },
      "source": [
        "# Check what values are of type str\n",
        "print('international: ', [i for i in data.international.values[:20] if isinstance(i, str)])\n",
        "print('income:', [i for i in data.income.values[:20] if isinstance(i, str)])\n",
        "print('total_score:', [i for i in data.total_score.values[:20] if isinstance(i, str)])\n",
        "\n",
        "# Convert all str values to type float or int\n",
        "data.international = [float(i) for i in data.international.values]\n",
        "data.income = [float(i) for i in data.income.values]\n",
        "data.total_score = [float(i) for i in data.total_score.values]"
      ],
      "execution_count": 912,
      "outputs": [
        {
          "output_type": "stream",
          "text": [
            "international:  ['72.4', '54.6', '82.3', '29.5', '70.3', '77.7', '77.2', '39.6', '90.0', '59.2', '48.1', '62.8', '58.5', '62.4', '93.7', '53.3', '90.9', '32.9', '39.1']\n",
            "income: ['34.5', '83.7', '87.5', '64.3', '57.0', '73.5', '92.9', '100.0', '34.7', '59.6', '43.7', '53.7']\n",
            "total_score: ['96.1', '96.0', '95.6', '94.3', '94.2', '91.2', '91.2', '91.1', '90.6', '89.5', '87.7', '86.9', '86.4', '83.9', '83.4', '83.4', '82.0', '81.0', '79.5', '79.3']\n"
          ],
          "name": "stdout"
        }
      ]
    },
    {
      "cell_type": "code",
      "metadata": {
        "id": "0W6pfa7pSSDH",
        "outputId": "07996fce-38c7-4476-9ef4-1a792d50ef73",
        "colab": {
          "base_uri": "https://localhost:8080/"
        }
      },
      "source": [
        "check_col_types(data)"
      ],
      "execution_count": 913,
      "outputs": [
        {
          "output_type": "stream",
          "text": [
            "world_rank : <class 'str'>\n",
            "university_name : <class 'str'>\n",
            "country : <class 'str'>\n",
            "teaching : <class 'numpy.float64'>\n",
            "international : <class 'numpy.float64'>\n",
            "research : <class 'numpy.float64'>\n",
            "citations : <class 'numpy.float64'>\n",
            "income : <class 'numpy.float64'>\n",
            "total_score : <class 'numpy.float64'>\n",
            "num_students : <class 'numpy.float64'>\n",
            "student_staff_ratio : <class 'numpy.float64'>\n",
            "international_students : <class 'numpy.float64'>\n",
            "female_ratio : <class 'numpy.float64'>\n",
            "year : <class 'numpy.int64'>\n"
          ],
          "name": "stdout"
        }
      ]
    },
    {
      "cell_type": "code",
      "metadata": {
        "id": "tJN5UjeP8UT0",
        "outputId": "305f90f5-81e7-46d8-df3b-5a6ea8397de2",
        "colab": {
          "base_uri": "https://localhost:8080/",
          "height": 320
        }
      },
      "source": [
        "data.head(6)"
      ],
      "execution_count": 914,
      "outputs": [
        {
          "output_type": "execute_result",
          "data": {
            "text/html": [
              "<div>\n",
              "<style scoped>\n",
              "    .dataframe tbody tr th:only-of-type {\n",
              "        vertical-align: middle;\n",
              "    }\n",
              "\n",
              "    .dataframe tbody tr th {\n",
              "        vertical-align: top;\n",
              "    }\n",
              "\n",
              "    .dataframe thead th {\n",
              "        text-align: right;\n",
              "    }\n",
              "</style>\n",
              "<table border=\"1\" class=\"dataframe\">\n",
              "  <thead>\n",
              "    <tr style=\"text-align: right;\">\n",
              "      <th></th>\n",
              "      <th>world_rank</th>\n",
              "      <th>university_name</th>\n",
              "      <th>country</th>\n",
              "      <th>teaching</th>\n",
              "      <th>international</th>\n",
              "      <th>research</th>\n",
              "      <th>citations</th>\n",
              "      <th>income</th>\n",
              "      <th>total_score</th>\n",
              "      <th>num_students</th>\n",
              "      <th>student_staff_ratio</th>\n",
              "      <th>international_students</th>\n",
              "      <th>female_ratio</th>\n",
              "      <th>year</th>\n",
              "    </tr>\n",
              "  </thead>\n",
              "  <tbody>\n",
              "    <tr>\n",
              "      <th>0</th>\n",
              "      <td>1</td>\n",
              "      <td>Harvard University</td>\n",
              "      <td>United States of America</td>\n",
              "      <td>99.7</td>\n",
              "      <td>72.4</td>\n",
              "      <td>98.7</td>\n",
              "      <td>98.8</td>\n",
              "      <td>34.5</td>\n",
              "      <td>96.1</td>\n",
              "      <td>20152.0</td>\n",
              "      <td>8.9</td>\n",
              "      <td>25.0</td>\n",
              "      <td>NaN</td>\n",
              "      <td>2011</td>\n",
              "    </tr>\n",
              "    <tr>\n",
              "      <th>1</th>\n",
              "      <td>2</td>\n",
              "      <td>California Institute of Technology</td>\n",
              "      <td>United States of America</td>\n",
              "      <td>97.7</td>\n",
              "      <td>54.6</td>\n",
              "      <td>98.0</td>\n",
              "      <td>99.9</td>\n",
              "      <td>83.7</td>\n",
              "      <td>96.0</td>\n",
              "      <td>2243.0</td>\n",
              "      <td>6.9</td>\n",
              "      <td>27.0</td>\n",
              "      <td>0.33</td>\n",
              "      <td>2011</td>\n",
              "    </tr>\n",
              "    <tr>\n",
              "      <th>2</th>\n",
              "      <td>3</td>\n",
              "      <td>Massachusetts Institute of Technology</td>\n",
              "      <td>United States of America</td>\n",
              "      <td>97.8</td>\n",
              "      <td>82.3</td>\n",
              "      <td>91.4</td>\n",
              "      <td>99.9</td>\n",
              "      <td>87.5</td>\n",
              "      <td>95.6</td>\n",
              "      <td>11074.0</td>\n",
              "      <td>9.0</td>\n",
              "      <td>33.0</td>\n",
              "      <td>0.37</td>\n",
              "      <td>2011</td>\n",
              "    </tr>\n",
              "    <tr>\n",
              "      <th>3</th>\n",
              "      <td>4</td>\n",
              "      <td>Stanford University</td>\n",
              "      <td>United States of America</td>\n",
              "      <td>98.3</td>\n",
              "      <td>29.5</td>\n",
              "      <td>98.1</td>\n",
              "      <td>99.2</td>\n",
              "      <td>64.3</td>\n",
              "      <td>94.3</td>\n",
              "      <td>15596.0</td>\n",
              "      <td>7.8</td>\n",
              "      <td>22.0</td>\n",
              "      <td>0.42</td>\n",
              "      <td>2011</td>\n",
              "    </tr>\n",
              "    <tr>\n",
              "      <th>4</th>\n",
              "      <td>5</td>\n",
              "      <td>Princeton University</td>\n",
              "      <td>United States of America</td>\n",
              "      <td>90.9</td>\n",
              "      <td>70.3</td>\n",
              "      <td>95.4</td>\n",
              "      <td>99.9</td>\n",
              "      <td>NaN</td>\n",
              "      <td>94.2</td>\n",
              "      <td>7929.0</td>\n",
              "      <td>8.4</td>\n",
              "      <td>27.0</td>\n",
              "      <td>0.45</td>\n",
              "      <td>2011</td>\n",
              "    </tr>\n",
              "    <tr>\n",
              "      <th>5</th>\n",
              "      <td>6</td>\n",
              "      <td>University of Cambridge</td>\n",
              "      <td>United Kingdom</td>\n",
              "      <td>90.5</td>\n",
              "      <td>77.7</td>\n",
              "      <td>94.1</td>\n",
              "      <td>94.0</td>\n",
              "      <td>57.0</td>\n",
              "      <td>91.2</td>\n",
              "      <td>18812.0</td>\n",
              "      <td>11.8</td>\n",
              "      <td>34.0</td>\n",
              "      <td>0.46</td>\n",
              "      <td>2011</td>\n",
              "    </tr>\n",
              "  </tbody>\n",
              "</table>\n",
              "</div>"
            ],
            "text/plain": [
              "  world_rank                        university_name  ... female_ratio  year\n",
              "0          1                     Harvard University  ...          NaN  2011\n",
              "1          2     California Institute of Technology  ...         0.33  2011\n",
              "2          3  Massachusetts Institute of Technology  ...         0.37  2011\n",
              "3          4                    Stanford University  ...         0.42  2011\n",
              "4          5                   Princeton University  ...         0.45  2011\n",
              "5          6                University of Cambridge  ...         0.46  2011\n",
              "\n",
              "[6 rows x 14 columns]"
            ]
          },
          "metadata": {
            "tags": []
          },
          "execution_count": 914
        }
      ]
    },
    {
      "cell_type": "markdown",
      "metadata": {
        "id": "LsknpLvKvW8P"
      },
      "source": [
        "####Handling Missing Values"
      ]
    },
    {
      "cell_type": "code",
      "metadata": {
        "id": "180L5LIHhfkz",
        "outputId": "92d9519a-ad60-4e4f-9bbd-39c91065b602",
        "colab": {
          "base_uri": "https://localhost:8080/"
        }
      },
      "source": [
        "# Separate categorical and numerical variables\n",
        "categorical_vars = [\"world_rank\", \"university_name\", \"country\", \"year\"]\n",
        "numerical_vars = [\"teaching\", \"international\", \"research\", \"citations\", \"income\", \"total_score\", \"num_students\", \"student_staff_ratio\", \"international_students\", \"female_ratio\"] \n",
        "\n",
        "# NaN values in categorical variables\n",
        "print(\"Missing categorical values :\")\n",
        "print([data[i].isnull().sum() for i in categorical_vars])\n",
        "\n",
        "# NaN values in numerical variables\n",
        "print(\"Missing numerical values :\")\n",
        "missing_cat = [(i, data[i].isnull().sum()) for i in numerical_vars]\n",
        "print(*missing_cat, sep='\\n')\n",
        "missing_vars = [var for (var, count) in missing_cat if count!=0]\n",
        "print(\"\\nVariables with missing values: \", *missing_vars)"
      ],
      "execution_count": 915,
      "outputs": [
        {
          "output_type": "stream",
          "text": [
            "Missing categorical values :\n",
            "[0, 0, 0, 0]\n",
            "Missing numerical values :\n",
            "('teaching', 0)\n",
            "('international', 9)\n",
            "('research', 0)\n",
            "('citations', 0)\n",
            "('income', 218)\n",
            "('total_score', 1402)\n",
            "('num_students', 59)\n",
            "('student_staff_ratio', 59)\n",
            "('international_students', 67)\n",
            "('female_ratio', 236)\n",
            "\n",
            "Variables with missing values:  international income total_score num_students student_staff_ratio international_students female_ratio\n"
          ],
          "name": "stdout"
        }
      ]
    },
    {
      "cell_type": "markdown",
      "metadata": {
        "id": "1LkAmkdwbhVN"
      },
      "source": [
        "Check for outliers in each variable to determine the best central tendancy measure as replacement for missing values"
      ]
    },
    {
      "cell_type": "code",
      "metadata": {
        "id": "XpgZ51NFbg1j",
        "outputId": "7d9ae1bc-39f7-408b-ef7c-e2bd1a7e307a",
        "colab": {
          "base_uri": "https://localhost:8080/",
          "height": 1000
        }
      },
      "source": [
        "# Boxplots for numerical variables\n",
        "sns.set_theme(style=\"whitegrid\")\n",
        "plt.figure(figsize=(25, 20))\n",
        "\n",
        "for i, col in enumerate(missing_vars, 1):\n",
        "  plt.subplot(4, 2, i)\n",
        "  ax = sns.boxplot(x=data[col])"
      ],
      "execution_count": 916,
      "outputs": [
        {
          "output_type": "display_data",
          "data": {
            "image/png": "[encoded data removed]",
            "text/plain": [
              "<Figure size 1800x1440 with 7 Axes>"
            ]
          },
          "metadata": {
            "tags": []
          }
        }
      ]
    },
    {
      "cell_type": "markdown",
      "metadata": {
        "id": "IGfcM6aA4Q5S"
      },
      "source": [
        "`international` has only 9 missing values and has a relatively symmetric distribution about the mean. Therefore, we decide to fill in missing values with the previous value to maintain the shape of the distribution."
      ]
    },
    {
      "cell_type": "code",
      "metadata": {
        "id": "2k52EgMKnH2j"
      },
      "source": [
        "# Fill NaN in international with previous values\n",
        "data['international'] = data['international'].fillna(method='ffill').fillna(method='bfill')"
      ],
      "execution_count": 917,
      "outputs": []
    },
    {
      "cell_type": "markdown",
      "metadata": {
        "id": "GKhu5gNs40uO"
      },
      "source": [
        "`num_students`,  `student_staff_ratio` and `international_students` have around 60 missing, and higly right-skewed distributions. We therefore decide to replace NaN with the median of each."
      ]
    },
    {
      "cell_type": "code",
      "metadata": {
        "id": "0jUgHR8D6aIR"
      },
      "source": [
        "# Replace missing with the median value\n",
        "data.num_students.fillna(data.num_students.median(), inplace=True)\n",
        "data.student_staff_ratio.fillna(data.student_staff_ratio.median(), inplace=True)\n",
        "data.international_students.fillna(data.international_students.median(), inplace=True)\n",
        "\n",
        "# Convert float to int now that NaN values are removed\n",
        "data.num_students = [int(i) for i in data.num_students]"
      ],
      "execution_count": 918,
      "outputs": []
    },
    {
      "cell_type": "markdown",
      "metadata": {
        "id": "XvJWEFq28GcY"
      },
      "source": [
        "Both `female_ratio` and `income` have around 200 missing values. That is nearly 10% of all the instances, and the distribution is still skewed with huge outliers. Since the dataframe is ordered according to rank, we decide to impute the missing score values with the previous or next values in the feature column."
      ]
    },
    {
      "cell_type": "code",
      "metadata": {
        "id": "6xlN5ZLY8Hhd"
      },
      "source": [
        "# Replace missing values with neighbouring values\n",
        "data.female_ratio = data.female_ratio.fillna(method='ffill').fillna(method='bfill')\n",
        "data.income = data.income.fillna(method='ffill').fillna(method='bfill')"
      ],
      "execution_count": 919,
      "outputs": []
    },
    {
      "cell_type": "markdown",
      "metadata": {
        "id": "hAkMG3NzrUO9"
      },
      "source": [
        "Over 54% of total_score is missing. Intuitively, `total_score` and `world_rank` establish the same correlation. Therefore, we decide to calculate the `total_score` values using the weightage method of designation of the overall score using the other scores in the dataset by the *THE*."
      ]
    },
    {
      "cell_type": "code",
      "metadata": {
        "id": "hnSg2pcGxbNg"
      },
      "source": [
        "# Replace total_score with transformation on the other score features, no resulting NaN values\n",
        "data.total_score = 0.3*data.teaching + 0.075*data.international + 0.3*data.research + 0.3*data.citations + 0.025*data.income"
      ],
      "execution_count": 920,
      "outputs": []
    },
    {
      "cell_type": "code",
      "metadata": {
        "id": "TYMjqzbL-zr5",
        "outputId": "13e28d01-8823-48df-9998-ab87e35f1c22",
        "colab": {
          "base_uri": "https://localhost:8080/",
          "height": 289
        }
      },
      "source": [
        "data.head()"
      ],
      "execution_count": 921,
      "outputs": [
        {
          "output_type": "execute_result",
          "data": {
            "text/html": [
              "<div>\n",
              "<style scoped>\n",
              "    .dataframe tbody tr th:only-of-type {\n",
              "        vertical-align: middle;\n",
              "    }\n",
              "\n",
              "    .dataframe tbody tr th {\n",
              "        vertical-align: top;\n",
              "    }\n",
              "\n",
              "    .dataframe thead th {\n",
              "        text-align: right;\n",
              "    }\n",
              "</style>\n",
              "<table border=\"1\" class=\"dataframe\">\n",
              "  <thead>\n",
              "    <tr style=\"text-align: right;\">\n",
              "      <th></th>\n",
              "      <th>world_rank</th>\n",
              "      <th>university_name</th>\n",
              "      <th>country</th>\n",
              "      <th>teaching</th>\n",
              "      <th>international</th>\n",
              "      <th>research</th>\n",
              "      <th>citations</th>\n",
              "      <th>income</th>\n",
              "      <th>total_score</th>\n",
              "      <th>num_students</th>\n",
              "      <th>student_staff_ratio</th>\n",
              "      <th>international_students</th>\n",
              "      <th>female_ratio</th>\n",
              "      <th>year</th>\n",
              "    </tr>\n",
              "  </thead>\n",
              "  <tbody>\n",
              "    <tr>\n",
              "      <th>0</th>\n",
              "      <td>1</td>\n",
              "      <td>Harvard University</td>\n",
              "      <td>United States of America</td>\n",
              "      <td>99.7</td>\n",
              "      <td>72.4</td>\n",
              "      <td>98.7</td>\n",
              "      <td>98.8</td>\n",
              "      <td>34.5</td>\n",
              "      <td>95.4525</td>\n",
              "      <td>20152</td>\n",
              "      <td>8.9</td>\n",
              "      <td>25.0</td>\n",
              "      <td>0.33</td>\n",
              "      <td>2011</td>\n",
              "    </tr>\n",
              "    <tr>\n",
              "      <th>1</th>\n",
              "      <td>2</td>\n",
              "      <td>California Institute of Technology</td>\n",
              "      <td>United States of America</td>\n",
              "      <td>97.7</td>\n",
              "      <td>54.6</td>\n",
              "      <td>98.0</td>\n",
              "      <td>99.9</td>\n",
              "      <td>83.7</td>\n",
              "      <td>94.8675</td>\n",
              "      <td>2243</td>\n",
              "      <td>6.9</td>\n",
              "      <td>27.0</td>\n",
              "      <td>0.33</td>\n",
              "      <td>2011</td>\n",
              "    </tr>\n",
              "    <tr>\n",
              "      <th>2</th>\n",
              "      <td>3</td>\n",
              "      <td>Massachusetts Institute of Technology</td>\n",
              "      <td>United States of America</td>\n",
              "      <td>97.8</td>\n",
              "      <td>82.3</td>\n",
              "      <td>91.4</td>\n",
              "      <td>99.9</td>\n",
              "      <td>87.5</td>\n",
              "      <td>95.0900</td>\n",
              "      <td>11074</td>\n",
              "      <td>9.0</td>\n",
              "      <td>33.0</td>\n",
              "      <td>0.37</td>\n",
              "      <td>2011</td>\n",
              "    </tr>\n",
              "    <tr>\n",
              "      <th>3</th>\n",
              "      <td>4</td>\n",
              "      <td>Stanford University</td>\n",
              "      <td>United States of America</td>\n",
              "      <td>98.3</td>\n",
              "      <td>29.5</td>\n",
              "      <td>98.1</td>\n",
              "      <td>99.2</td>\n",
              "      <td>64.3</td>\n",
              "      <td>92.5000</td>\n",
              "      <td>15596</td>\n",
              "      <td>7.8</td>\n",
              "      <td>22.0</td>\n",
              "      <td>0.42</td>\n",
              "      <td>2011</td>\n",
              "    </tr>\n",
              "    <tr>\n",
              "      <th>4</th>\n",
              "      <td>5</td>\n",
              "      <td>Princeton University</td>\n",
              "      <td>United States of America</td>\n",
              "      <td>90.9</td>\n",
              "      <td>70.3</td>\n",
              "      <td>95.4</td>\n",
              "      <td>99.9</td>\n",
              "      <td>64.3</td>\n",
              "      <td>92.7400</td>\n",
              "      <td>7929</td>\n",
              "      <td>8.4</td>\n",
              "      <td>27.0</td>\n",
              "      <td>0.45</td>\n",
              "      <td>2011</td>\n",
              "    </tr>\n",
              "  </tbody>\n",
              "</table>\n",
              "</div>"
            ],
            "text/plain": [
              "  world_rank                        university_name  ... female_ratio  year\n",
              "0          1                     Harvard University  ...         0.33  2011\n",
              "1          2     California Institute of Technology  ...         0.33  2011\n",
              "2          3  Massachusetts Institute of Technology  ...         0.37  2011\n",
              "3          4                    Stanford University  ...         0.42  2011\n",
              "4          5                   Princeton University  ...         0.45  2011\n",
              "\n",
              "[5 rows x 14 columns]"
            ]
          },
          "metadata": {
            "tags": []
          },
          "execution_count": 921
        }
      ]
    },
    {
      "cell_type": "code",
      "metadata": {
        "id": "CX8U-iuDyOVF",
        "outputId": "f57582a8-dfa4-4320-e835-fefe35a92e18",
        "colab": {
          "base_uri": "https://localhost:8080/"
        }
      },
      "source": [
        "check_col_types(data)\n",
        "print(\"\\n\")\n",
        "data.isnull().sum()"
      ],
      "execution_count": 922,
      "outputs": [
        {
          "output_type": "stream",
          "text": [
            "world_rank : <class 'str'>\n",
            "university_name : <class 'str'>\n",
            "country : <class 'str'>\n",
            "teaching : <class 'numpy.float64'>\n",
            "international : <class 'numpy.float64'>\n",
            "research : <class 'numpy.float64'>\n",
            "citations : <class 'numpy.float64'>\n",
            "income : <class 'numpy.float64'>\n",
            "total_score : <class 'numpy.float64'>\n",
            "num_students : <class 'numpy.int64'>\n",
            "student_staff_ratio : <class 'numpy.float64'>\n",
            "international_students : <class 'numpy.float64'>\n",
            "female_ratio : <class 'numpy.float64'>\n",
            "year : <class 'numpy.int64'>\n",
            "\n",
            "\n"
          ],
          "name": "stdout"
        },
        {
          "output_type": "execute_result",
          "data": {
            "text/plain": [
              "world_rank                0\n",
              "university_name           0\n",
              "country                   0\n",
              "teaching                  0\n",
              "international             0\n",
              "research                  0\n",
              "citations                 0\n",
              "income                    0\n",
              "total_score               0\n",
              "num_students              0\n",
              "student_staff_ratio       0\n",
              "international_students    0\n",
              "female_ratio              0\n",
              "year                      0\n",
              "dtype: int64"
            ]
          },
          "metadata": {
            "tags": []
          },
          "execution_count": 922
        }
      ]
    },
    {
      "cell_type": "markdown",
      "metadata": {
        "id": "foKRU1NezAyx"
      },
      "source": [
        "### Data Visualization"
      ]
    }
  ]
}